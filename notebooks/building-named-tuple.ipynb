{
 "cells": [
  {
   "cell_type": "code",
   "execution_count": 1,
   "metadata": {
    "collapsed": true
   },
   "outputs": [],
   "source": [
    "import csv\n",
    "from collections import namedtuple"
   ]
  },
  {
   "cell_type": "code",
   "execution_count": null,
   "metadata": {
    "collapsed": true
   },
   "outputs": [],
   "source": []
  },
  {
   "cell_type": "code",
   "execution_count": 8,
   "metadata": {
    "collapsed": true
   },
   "outputs": [],
   "source": [
    "class Point(object):\n",
    "    def __init__(self, x, y):\n",
    "        pass"
   ]
  },
  {
   "cell_type": "code",
   "execution_count": 3,
   "metadata": {
    "collapsed": false
   },
   "outputs": [],
   "source": [
    "with open('../data/parking_violations_sample.csv', 'r') as f:\n",
    "    data = csv.reader(f, delimiter='\\t')\n",
    "    rows = list(data)"
   ]
  },
  {
   "cell_type": "code",
   "execution_count": 9,
   "metadata": {
    "collapsed": false
   },
   "outputs": [
    {
     "ename": "ValueError",
     "evalue": "could not convert string to float: ﻿x",
     "output_type": "error",
     "traceback": [
      "\u001b[0;31m---------------------------------------------------------------------------\u001b[0m",
      "\u001b[0;31mValueError\u001b[0m                                Traceback (most recent call last)",
      "\u001b[0;32m<ipython-input-9-6d371020adfb>\u001b[0m in \u001b[0;36m<module>\u001b[0;34m()\u001b[0m\n\u001b[1;32m      3\u001b[0m \u001b[0;32mimport\u001b[0m \u001b[0mcsv\u001b[0m\u001b[0;34m\u001b[0m\u001b[0m\n\u001b[1;32m      4\u001b[0m \u001b[0;32mfor\u001b[0m \u001b[0mviolation\u001b[0m \u001b[0;32min\u001b[0m \u001b[0mmap\u001b[0m\u001b[0;34m(\u001b[0m\u001b[0mParking\u001b[0m\u001b[0;34m.\u001b[0m\u001b[0m_make\u001b[0m\u001b[0;34m,\u001b[0m \u001b[0mcsv\u001b[0m\u001b[0;34m.\u001b[0m\u001b[0mreader\u001b[0m\u001b[0;34m(\u001b[0m\u001b[0mopen\u001b[0m\u001b[0;34m(\u001b[0m\u001b[0;34m\"../data/parking_violations_sample.csv\"\u001b[0m\u001b[0;34m,\u001b[0m \u001b[0;34m\"rb\"\u001b[0m\u001b[0;34m)\u001b[0m\u001b[0;34m,\u001b[0m \u001b[0mdelimiter\u001b[0m\u001b[0;34m=\u001b[0m\u001b[0;34m'\\t'\u001b[0m\u001b[0;34m)\u001b[0m\u001b[0;34m)\u001b[0m\u001b[0;34m:\u001b[0m\u001b[0;34m\u001b[0m\u001b[0m\n\u001b[0;32m----> 5\u001b[0;31m     \u001b[0mlocation\u001b[0m \u001b[0;34m=\u001b[0m \u001b[0mPoint\u001b[0m\u001b[0;34m(\u001b[0m\u001b[0;34m(\u001b[0m\u001b[0mfloat\u001b[0m\u001b[0;34m(\u001b[0m\u001b[0mviolation\u001b[0m\u001b[0;34m.\u001b[0m\u001b[0mx\u001b[0m\u001b[0;34m)\u001b[0m\u001b[0;34m,\u001b[0m \u001b[0mfloat\u001b[0m\u001b[0;34m(\u001b[0m\u001b[0mviolation\u001b[0m\u001b[0;34m.\u001b[0m\u001b[0my\u001b[0m\u001b[0;34m)\u001b[0m\u001b[0;34m)\u001b[0m\u001b[0;34m)\u001b[0m\u001b[0;34m,\u001b[0m\u001b[0;34m\u001b[0m\u001b[0m\n\u001b[0m\u001b[1;32m      6\u001b[0m     \u001b[0mobjectid\u001b[0m \u001b[0;34m=\u001b[0m \u001b[0mviolation\u001b[0m\u001b[0;34m.\u001b[0m\u001b[0mobjectid\u001b[0m\u001b[0;34m,\u001b[0m\u001b[0;34m\u001b[0m\u001b[0m\n\u001b[1;32m      7\u001b[0m     \u001b[0mrowid\u001b[0m \u001b[0;34m=\u001b[0m \u001b[0mviolation\u001b[0m\u001b[0;34m.\u001b[0m\u001b[0mrowid\u001b[0m\u001b[0;34m,\u001b[0m\u001b[0;34m\u001b[0m\u001b[0m\n",
      "\u001b[0;31mValueError\u001b[0m: could not convert string to float: ﻿x"
     ]
    }
   ],
   "source": [
    "Parking = namedtuple('Parking', 'x, y, objectid, rowid_, holiday, violation_code, violation_description, location, rp_plate_state, body_style, address_id, streetsegid, xcoord, ycoord, filename, ticket_issue_datetime')\n",
    "\n",
    "import csv\n",
    "for violation in map(Parking._make, csv.reader(open(\"../data/parking_violations_sample.csv\", \"rb\"), delimiter='\\t')):\n",
    "    location = Point((float(violation.x), float(violation.y))),\n",
    "    objectid = violation.objectid,\n",
    "    rowid = violation.rowid,\n",
    "    holiday = violation.holiday,\n",
    "    violation_code = violation.violation_code,\n",
    "    violation_description = violation.violation_description,\n",
    "    address = violation.location,\n",
    "    rp_plate_state = violation.rp_plate_state,\n",
    "    body_style = violation.body_style,\n",
    "    address_id = violation.address_id,\n",
    "    streetsegid = violation.streetsegid,\n",
    "    xcoord = violation.xcoord,\n",
    "    ycoord = violation.ycoord,\n",
    "    filename = violation.filename,\n",
    "    ticket_issue_datetime = violation.ticket_issue_datetime"
   ]
  },
  {
   "cell_type": "code",
   "execution_count": null,
   "metadata": {
    "collapsed": true
   },
   "outputs": [],
   "source": []
  },
  {
   "cell_type": "code",
   "execution_count": 12,
   "metadata": {
    "collapsed": false
   },
   "outputs": [
    {
     "data": {
      "text/plain": [
       "[['-77.0441806538',\n",
       "  '38.9037532028',\n",
       "  '1533291',\n",
       "  '6479014',\n",
       "  'False',\n",
       "  'P259',\n",
       "  'NO STOPPING OR STANDING IN PM RUSH HOUR ZONE',\n",
       "  '2000 BLOCK L ST NW NORTH SIDE',\n",
       "  'DC',\n",
       "  'VA',\n",
       "  '811335',\n",
       "  '9712.0',\n",
       "  '396168',\n",
       "  '137322',\n",
       "  'Parking_Violations_in_July_2011.csv',\n",
       "  '2011-07-06T16:09:00.000Z'],\n",
       " ['-77.0425677615',\n",
       "  '38.9056635726',\n",
       "  '5680803',\n",
       "  '10607968',\n",
       "  'False',\n",
       "  'P039',\n",
       "  'PARK AT EXPIRED METER',\n",
       "  '1900 BLOCK M ST NW SOUTH SIDE',\n",
       "  'DC',\n",
       "  '4D',\n",
       "  '809121',\n",
       "  '7809.0',\n",
       "  '396308',\n",
       "  '137534',\n",
       "  'Parking_Violations_in_July_2009.csv',\n",
       "  '2009-07-02T14:08:00.000Z'],\n",
       " ['-77.0207342646',\n",
       "  '38.8750860519',\n",
       "  '5962861',\n",
       "  '5979623',\n",
       "  'False',\n",
       "  'P039',\n",
       "  'PARK AT EXPIRED METER',\n",
       "  '0600 BLOCK WATER ST SW NORTH SIDE',\n",
       "  'DC',\n",
       "  'UT',\n",
       "  '800032',\n",
       "  '31.0',\n",
       "  '398201',\n",
       "  '134139',\n",
       "  'Parking_Violations_in_October_2011.csv',\n",
       "  '2011-10-07T17:55:00.000Z'],\n",
       " ['-77.0337435918',\n",
       "  '38.9694722285',\n",
       "  '10518033',\n",
       "  '6853772',\n",
       "  'False',\n",
       "  'P076',\n",
       "  '',\n",
       "  '6600 BLOCK LUZON AV NW NORTH SIDE',\n",
       "  'MD',\n",
       "  '4D',\n",
       "  '803834',\n",
       "  '3137.0',\n",
       "  '397076',\n",
       "  '144617',\n",
       "  'Parking_Violations_in_April_2011.csv',\n",
       "  '2011-04-04T01:46:00.000Z'],\n",
       " ['-77.0073714937',\n",
       "  '38.9260569559',\n",
       "  '4157351',\n",
       "  '4558326',\n",
       "  'False',\n",
       "  'P173',\n",
       "  'NO PARKING STREET CLEANING',\n",
       "  'UNIT BLOCK GIRARD ST NE NORTH SIDE',\n",
       "  'VA',\n",
       "  '4D',\n",
       "  '800752',\n",
       "  '550.0',\n",
       "  '399361',\n",
       "  '139797',\n",
       "  'Parking_Violations_in_May_2012.csv',\n",
       "  '2012-05-24T09:45:00.000Z'],\n",
       " ['-77.0020427616',\n",
       "  '38.8995636447',\n",
       "  '3224108',\n",
       "  '6794129',\n",
       "  'False',\n",
       "  'P039',\n",
       "  'PARK AT EXPIRED METER',\n",
       "  '0800 BLOCK 3RD ST NE WEST SIDE',\n",
       "  'DC',\n",
       "  'SW',\n",
       "  '810721',\n",
       "  '9187.0',\n",
       "  '399823',\n",
       "  '136856',\n",
       "  'Parking_Violations_in_April_2011.csv',\n",
       "  '2011-04-13T07:02:00.000Z'],\n",
       " ['-77.0299886011',\n",
       "  '38.9035234907',\n",
       "  '9687858',\n",
       "  '9310087',\n",
       "  'False',\n",
       "  'P259',\n",
       "  'NO STOPPING OR STANDING IN PM RUSH HOUR ZONE',\n",
       "  '1300 L ST NW BLOCK SOUTH SIDE',\n",
       "  'MD',\n",
       "  '',\n",
       "  '240642',\n",
       "  '7643.0',\n",
       "  '397399',\n",
       "  '137296',\n",
       "  'Parking_Violations_in_March_2013.csv',\n",
       "  '2013-03-28T17:42:00.000Z'],\n",
       " ['-77.0563710303',\n",
       "  '38.9093601595',\n",
       "  '5591515',\n",
       "  '12795121',\n",
       "  'False',\n",
       "  'P055',\n",
       "  'NO PARKING ANYTIME',\n",
       "  '2700 BLOCK P ST NW NORTH SIDE',\n",
       "  'TX',\n",
       "  'PU',\n",
       "  '802437',\n",
       "  '2152.0',\n",
       "  '395111',\n",
       "  '137945',\n",
       "  'Parking_Violations_in_January_2010.csv',\n",
       "  '2010-01-28T16:55:00.000Z'],\n",
       " ['-77.039672557',\n",
       "  '38.9031512608',\n",
       "  '7635802',\n",
       "  '3781298',\n",
       "  'False',\n",
       "  'P170',\n",
       "  'FAILURE TO DISPLAY CURRENT TAGS',\n",
       "  '1100 BLOCK CONNECTICUT AV NW WEST S',\n",
       "  'DC',\n",
       "  '4D',\n",
       "  '804979',\n",
       "  '4297.0',\n",
       "  '396559',\n",
       "  '137255',\n",
       "  'Parking_Violations_in_October_2012.csv',\n",
       "  '2012-10-11T23:03:00.000Z']]"
      ]
     },
     "execution_count": 12,
     "metadata": {},
     "output_type": "execute_result"
    }
   ],
   "source": [
    "rows[1:10]"
   ]
  },
  {
   "cell_type": "code",
   "execution_count": 26,
   "metadata": {
    "collapsed": false
   },
   "outputs": [],
   "source": [
    "items = 'x, y, objectid, rowid_, holiday, violation_code, violation_description, location, rp_plate_state, body_style, address_id, streetsegid, xcoord, ycoord, filename, ticket_issue_datetime'.split(',')"
   ]
  },
  {
   "cell_type": "code",
   "execution_count": 30,
   "metadata": {
    "collapsed": false
   },
   "outputs": [
    {
     "name": "stdout",
     "output_type": "stream",
     "text": [
      "x\n",
      " y\n",
      " objectid\n",
      " rowid_\n",
      " holiday\n",
      " violation_code\n",
      " violation_description\n",
      " location\n",
      " rp_plate_state\n",
      " body_style\n",
      " address_id\n",
      " streetsegid\n",
      " xcoord\n",
      " ycoord\n",
      " filename\n",
      " ticket_issue_datetime\n"
     ]
    }
   ],
   "source": [
    "for i in items:\n",
    "    print i"
   ]
  },
  {
   "cell_type": "code",
   "execution_count": 6,
   "metadata": {
    "collapsed": false
   },
   "outputs": [
    {
     "name": "stdout",
     "output_type": "stream",
     "text": [
      "Python 3.5.1\r\n"
     ]
    }
   ],
   "source": []
  },
  {
   "cell_type": "code",
   "execution_count": null,
   "metadata": {
    "collapsed": true
   },
   "outputs": [],
   "source": []
  }
 ],
 "metadata": {
  "kernelspec": {
   "display_name": "Python 2",
   "language": "python",
   "name": "python2"
  },
  "language_info": {
   "codemirror_mode": {
    "name": "ipython",
    "version": 2
   },
   "file_extension": ".py",
   "mimetype": "text/x-python",
   "name": "python",
   "nbconvert_exporter": "python",
   "pygments_lexer": "ipython2",
   "version": "2.7.11"
  }
 },
 "nbformat": 4,
 "nbformat_minor": 0
}
