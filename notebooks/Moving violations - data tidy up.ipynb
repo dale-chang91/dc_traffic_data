{
 "cells": [
  {
   "cell_type": "code",
   "execution_count": 11,
   "metadata": {
    "collapsed": true
   },
   "outputs": [],
   "source": [
    "import glob\n",
    "import pandas as pd"
   ]
  },
  {
   "cell_type": "code",
   "execution_count": 12,
   "metadata": {
    "collapsed": true
   },
   "outputs": [],
   "source": [
    "pd.set_option('display.max_columns', 500)"
   ]
  },
  {
   "cell_type": "code",
   "execution_count": 13,
   "metadata": {
    "collapsed": false
   },
   "outputs": [],
   "source": [
    "files = glob.glob('../vz-hackathon/**')"
   ]
  },
  {
   "cell_type": "code",
   "execution_count": 14,
   "metadata": {
    "collapsed": false
   },
   "outputs": [],
   "source": [
    "moving_violations = [f for f in files if 'Moving_Violations_in' in f]"
   ]
  },
  {
   "cell_type": "code",
   "execution_count": 15,
   "metadata": {
    "collapsed": false
   },
   "outputs": [],
   "source": [
    "parking_violations = [f for f in files if 'Parking_Violations_in' in f]"
   ]
  },
  {
   "cell_type": "code",
   "execution_count": 16,
   "metadata": {
    "collapsed": false
   },
   "outputs": [],
   "source": [
    "parking_violations_summary = [f for f in files if '/Parking_Violations_Summary' in f]"
   ]
  },
  {
   "cell_type": "code",
   "execution_count": 17,
   "metadata": {
    "collapsed": false
   },
   "outputs": [],
   "source": [
    "list_ = []\n",
    "for file_ in moving_violations:\n",
    "    df = pd.read_csv(file_,index_col=None, header=0)\n",
    "    \n",
    "    filename = file_[len('../vz-hackathon/'):]\n",
    "    \n",
    "    df['filename'] = filename\n",
    "    \n",
    "    if filename ==  'Moving_Violations_in_July_2014.csv':\n",
    "        \n",
    "        df['TICKETISSUEDATE'] = df['TICKET_ISSUE_DATE']\n",
    "        \n",
    "        df['ROW_'] = df['ROWID_']\n",
    "        \n",
    "        df['VIOLATIONCODE'] = df['VIOLATION_CODE']\n",
    "        \n",
    "        df['VIOLATIONDESC'] = df['VIOLATION_DESCRIPTION']\n",
    "            \n",
    "    list_.append(df)\n",
    "    \n",
    "frame = pd.concat(list_)\n",
    "# TESTs\n",
    "assert len(frame) == 3993673\n",
    "assert frame.filename.nunique() == len(moving_violations)\n",
    "\n",
    "frame.columns = [col.lower() for col in frame.columns]\n",
    "frame = frame.reset_index(drop=True)\n",
    "\n",
    "# convert dt string to object\n",
    "# frame['ticketissuedate'] = pd.to_datetime(frame.ticketissuedate)"
   ]
  },
  {
   "cell_type": "code",
   "execution_count": 8,
   "metadata": {
    "collapsed": false
   },
   "outputs": [],
   "source": [
    "# DELETE the Moving_Violations_in_July_2014.csv mess\n",
    "del frame['ticket_issue_date'] \n",
    "del frame['day_of_week'] # only appears in one file\n",
    "\n",
    "# Possible deletes -- only appears in one file - Moving_Violations_in_July_2014.csv\n",
    "del frame['body_style'] # only appears in one file - Moving_Violations_in_July_2014.csv\n",
    "del frame['month_of_year'] # only appears in one file - Moving_Violations_in_July_2014.csv\n",
    "del frame['holiday'] # only appears in one file - Moving_Violations_in_July_2014.csv\n",
    "del frame['issue_time'] # only appears in one file - Moving_Violations_in_July_2014.csv\n",
    "del frame['rp_plate_state']\n",
    "del frame['week_of_year']\n",
    "del frame['row_id']\n",
    "del frame['rowid_']\n",
    "del frame['violation_code']\n",
    "del frame['violation_description']"
   ]
  },
  {
   "cell_type": "code",
   "execution_count": 18,
   "metadata": {
    "collapsed": false
   },
   "outputs": [
    {
     "data": {
      "text/html": [
       "<div>\n",
       "<table border=\"1\" class=\"dataframe\">\n",
       "  <thead>\n",
       "    <tr style=\"text-align: right;\">\n",
       "      <th></th>\n",
       "      <th>accidentindicator</th>\n",
       "      <th>address_id</th>\n",
       "      <th>agencyid</th>\n",
       "      <th>body_style</th>\n",
       "      <th>day_of_week</th>\n",
       "      <th>fineamt</th>\n",
       "      <th>holiday</th>\n",
       "      <th>issue_time</th>\n",
       "      <th>location</th>\n",
       "      <th>month_of_year</th>\n",
       "      <th>objectid</th>\n",
       "      <th>penalty1</th>\n",
       "      <th>penalty2</th>\n",
       "      <th>rowid_</th>\n",
       "      <th>row_</th>\n",
       "      <th>row_id</th>\n",
       "      <th>rp_plate_state</th>\n",
       "      <th>streetsegid</th>\n",
       "      <th>ticketissuedate</th>\n",
       "      <th>tickettype</th>\n",
       "      <th>ticket_issue_date</th>\n",
       "      <th>totalpaid</th>\n",
       "      <th>violationcode</th>\n",
       "      <th>violationdesc</th>\n",
       "      <th>violation_code</th>\n",
       "      <th>violation_description</th>\n",
       "      <th>week_of_year</th>\n",
       "      <th>xcoord</th>\n",
       "      <th>y</th>\n",
       "      <th>ycoord</th>\n",
       "      <th>filename</th>\n",
       "      <th>﻿x</th>\n",
       "    </tr>\n",
       "  </thead>\n",
       "  <tbody>\n",
       "    <tr>\n",
       "      <th>0</th>\n",
       "      <td>No</td>\n",
       "      <td>31943.0</td>\n",
       "      <td>25.0</td>\n",
       "      <td>NaN</td>\n",
       "      <td>NaN</td>\n",
       "      <td>50.0</td>\n",
       "      <td>NaN</td>\n",
       "      <td>NaN</td>\n",
       "      <td>3700 BLK SOUTHERN AVENUE SE (SW/B)</td>\n",
       "      <td>NaN</td>\n",
       "      <td>119</td>\n",
       "      <td>50.0</td>\n",
       "      <td>NaN</td>\n",
       "      <td>NaN</td>\n",
       "      <td>195854</td>\n",
       "      <td>NaN</td>\n",
       "      <td>NaN</td>\n",
       "      <td>1435.0</td>\n",
       "      <td>2009-04-01T00:00:00.000Z</td>\n",
       "      <td>Photo</td>\n",
       "      <td>NaN</td>\n",
       "      <td>0.0</td>\n",
       "      <td>T119</td>\n",
       "      <td>SPEED 11-15 MPH OVER THE SPEED LIMIT</td>\n",
       "      <td>NaN</td>\n",
       "      <td>NaN</td>\n",
       "      <td>NaN</td>\n",
       "      <td>404133.54</td>\n",
       "      <td>38.859665</td>\n",
       "      <td>132428.01</td>\n",
       "      <td>Moving_Violations_in_April_2009.csv</td>\n",
       "      <td>-76.952377</td>\n",
       "    </tr>\n",
       "    <tr>\n",
       "      <th>1</th>\n",
       "      <td>No</td>\n",
       "      <td>301049.0</td>\n",
       "      <td>25.0</td>\n",
       "      <td>NaN</td>\n",
       "      <td>NaN</td>\n",
       "      <td>50.0</td>\n",
       "      <td>NaN</td>\n",
       "      <td>NaN</td>\n",
       "      <td>3400 BLK BENNING ROAD NE W/B</td>\n",
       "      <td>NaN</td>\n",
       "      <td>120</td>\n",
       "      <td>NaN</td>\n",
       "      <td>NaN</td>\n",
       "      <td>NaN</td>\n",
       "      <td>194461</td>\n",
       "      <td>NaN</td>\n",
       "      <td>NaN</td>\n",
       "      <td>6467.0</td>\n",
       "      <td>2009-04-01T00:00:00.000Z</td>\n",
       "      <td>Photo</td>\n",
       "      <td>NaN</td>\n",
       "      <td>50.0</td>\n",
       "      <td>T119</td>\n",
       "      <td>SPEED 11-15 MPH OVER THE SPEED LIMIT</td>\n",
       "      <td>NaN</td>\n",
       "      <td>NaN</td>\n",
       "      <td>NaN</td>\n",
       "      <td>404151.99</td>\n",
       "      <td>38.896986</td>\n",
       "      <td>136570.94</td>\n",
       "      <td>Moving_Violations_in_April_2009.csv</td>\n",
       "      <td>-76.952139</td>\n",
       "    </tr>\n",
       "  </tbody>\n",
       "</table>\n",
       "</div>"
      ],
      "text/plain": [
       "  accidentindicator  address_id  agencyid body_style day_of_week  fineamt  \\\n",
       "0                No     31943.0      25.0        NaN         NaN     50.0   \n",
       "1                No    301049.0      25.0        NaN         NaN     50.0   \n",
       "\n",
       "   holiday  issue_time                            location  month_of_year  \\\n",
       "0      NaN         NaN  3700 BLK SOUTHERN AVENUE SE (SW/B)            NaN   \n",
       "1      NaN         NaN        3400 BLK BENNING ROAD NE W/B            NaN   \n",
       "\n",
       "   objectid  penalty1  penalty2  rowid_    row_  row_id rp_plate_state  \\\n",
       "0       119      50.0       NaN     NaN  195854     NaN            NaN   \n",
       "1       120       NaN       NaN     NaN  194461     NaN            NaN   \n",
       "\n",
       "   streetsegid           ticketissuedate tickettype ticket_issue_date  \\\n",
       "0       1435.0  2009-04-01T00:00:00.000Z      Photo               NaN   \n",
       "1       6467.0  2009-04-01T00:00:00.000Z      Photo               NaN   \n",
       "\n",
       "   totalpaid violationcode                         violationdesc  \\\n",
       "0        0.0          T119  SPEED 11-15 MPH OVER THE SPEED LIMIT   \n",
       "1       50.0          T119  SPEED 11-15 MPH OVER THE SPEED LIMIT   \n",
       "\n",
       "  violation_code violation_description  week_of_year     xcoord          y  \\\n",
       "0            NaN                   NaN           NaN  404133.54  38.859665   \n",
       "1            NaN                   NaN           NaN  404151.99  38.896986   \n",
       "\n",
       "      ycoord                             filename         ﻿x  \n",
       "0  132428.01  Moving_Violations_in_April_2009.csv -76.952377  \n",
       "1  136570.94  Moving_Violations_in_April_2009.csv -76.952139  "
      ]
     },
     "execution_count": 18,
     "metadata": {},
     "output_type": "execute_result"
    }
   ],
   "source": [
    "frame.head(2)"
   ]
  },
  {
   "cell_type": "code",
   "execution_count": 19,
   "metadata": {
    "collapsed": false
   },
   "outputs": [],
   "source": [
    "frame.to_json('moving_violations.json')\n",
    "frame.to_csv('moving_violations.csv', delimiter='||')\n"
   ]
  },
  {
   "cell_type": "code",
   "execution_count": null,
   "metadata": {
    "collapsed": true
   },
   "outputs": [],
   "source": []
  }
 ],
 "metadata": {
  "kernelspec": {
   "display_name": "Python 2",
   "language": "python",
   "name": "python2"
  },
  "language_info": {
   "codemirror_mode": {
    "name": "ipython",
    "version": 2
   },
   "file_extension": ".py",
   "mimetype": "text/x-python",
   "name": "python",
   "nbconvert_exporter": "python",
   "pygments_lexer": "ipython2",
   "version": "2.7.11"
  }
 },
 "nbformat": 4,
 "nbformat_minor": 0
}
