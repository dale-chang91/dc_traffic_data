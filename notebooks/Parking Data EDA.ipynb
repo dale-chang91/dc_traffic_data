{
 "cells": [
  {
   "cell_type": "code",
   "execution_count": 56,
   "metadata": {
    "collapsed": true
   },
   "outputs": [],
   "source": [
    "import pandas as pd"
   ]
  },
  {
   "cell_type": "code",
   "execution_count": 2,
   "metadata": {
    "collapsed": true
   },
   "outputs": [],
   "source": [
    "data = '../data/parking_violations.csv'"
   ]
  },
  {
   "cell_type": "code",
   "execution_count": 12,
   "metadata": {
    "collapsed": false
   },
   "outputs": [],
   "source": [
    "df = pd.read_csv(data, parse_dates=True)\n",
    "# df.to_pickle('parking_eda.pkle')"
   ]
  },
  {
   "cell_type": "code",
   "execution_count": 14,
   "metadata": {
    "collapsed": false
   },
   "outputs": [],
   "source": [
    "dfs = df.sample(10000, random_state=1).copy()"
   ]
  },
  {
   "cell_type": "code",
   "execution_count": 19,
   "metadata": {
    "collapsed": false
   },
   "outputs": [
    {
     "name": "stdout",
     "output_type": "stream",
     "text": [
      "<class 'pandas.core.frame.DataFrame'>\n",
      "Int64Index: 10000 entries, 5550538 to 10568908\n",
      "Data columns (total 16 columns):\n",
      "﻿x                       10000 non-null float64\n",
      "y                        10000 non-null float64\n",
      "objectid                 10000 non-null int64\n",
      "rowid_                   10000 non-null int64\n",
      "holiday                  10000 non-null bool\n",
      "violation_code           10000 non-null object\n",
      "violation_description    9748 non-null object\n",
      "location                 10000 non-null object\n",
      "rp_plate_state           9972 non-null object\n",
      "body_style               8613 non-null object\n",
      "address_id               10000 non-null int64\n",
      "streetsegid              9993 non-null float64\n",
      "xcoord                   10000 non-null int64\n",
      "ycoord                   10000 non-null int64\n",
      "filename                 10000 non-null object\n",
      "ticket_issue_datetime    10000 non-null datetime64[ns]\n",
      "dtypes: bool(1), datetime64[ns](1), float64(3), int64(5), object(6)\n",
      "memory usage: 1.2+ MB\n"
     ]
    }
   ],
   "source": [
    "dfs.info()"
   ]
  },
  {
   "cell_type": "code",
   "execution_count": 17,
   "metadata": {
    "collapsed": false
   },
   "outputs": [],
   "source": [
    "dfs['ticket_issue_datetime'] = pd.to_datetime(dfs.ticket_issue_datetime)"
   ]
  },
  {
   "cell_type": "code",
   "execution_count": 21,
   "metadata": {
    "collapsed": false
   },
   "outputs": [
    {
     "data": {
      "text/plain": [
       "4484443   2009-01-02 20:15:00\n",
       "4432624   2009-01-02 23:48:00\n",
       "4424152   2009-01-05 03:50:00\n",
       "4386236   2009-01-05 09:26:00\n",
       "4393783   2009-01-05 11:16:00\n",
       "4381305   2009-01-05 11:52:00\n",
       "4445672   2009-01-05 13:02:00\n",
       "4418234   2009-01-06 07:23:00\n",
       "4483900   2009-01-06 09:12:00\n",
       "4455418   2009-01-06 11:25:00\n",
       "4461905   2009-01-06 14:46:00\n",
       "4436315   2009-01-07 07:10:00\n",
       "4435541   2009-01-07 08:46:00\n",
       "4440496   2009-01-07 10:34:00\n",
       "4405768   2009-01-07 11:19:00\n",
       "4384219   2009-01-07 15:28:00\n",
       "4398978   2009-01-07 16:46:00\n",
       "4466989   2009-01-08 00:58:00\n",
       "4467392   2009-01-08 08:03:00\n",
       "4464597   2009-01-08 09:26:00\n",
       "4371986   2009-01-08 09:51:00\n",
       "4382264   2009-01-08 10:15:00\n",
       "4431871   2009-01-08 10:26:00\n",
       "4396377   2009-01-08 11:14:00\n",
       "4398823   2009-01-08 15:38:00\n",
       "4459482   2009-01-08 18:23:00\n",
       "4367963   2009-01-09 13:40:00\n",
       "4435613   2009-01-09 17:15:00\n",
       "4417197   2009-01-10 12:24:00\n",
       "4487928   2009-01-10 17:52:00\n",
       "                  ...        \n",
       "3355249   2015-12-17 17:40:00\n",
       "3288013   2015-12-17 20:16:00\n",
       "3274946   2015-12-18 06:51:00\n",
       "3363728   2015-12-18 09:17:00\n",
       "3273215   2015-12-18 10:11:00\n",
       "3277421   2015-12-18 14:34:00\n",
       "3294152   2015-12-18 20:09:00\n",
       "3344949   2015-12-19 12:17:00\n",
       "3306690   2015-12-21 01:44:00\n",
       "3343788   2015-12-21 07:44:00\n",
       "3342744   2015-12-21 13:17:00\n",
       "3296538   2015-12-21 14:25:00\n",
       "3327456   2015-12-22 11:24:00\n",
       "3283695   2015-12-22 13:01:00\n",
       "3305615   2015-12-22 19:49:00\n",
       "3295003   2015-12-23 05:40:00\n",
       "3277609   2015-12-24 07:20:00\n",
       "3297550   2015-12-24 11:53:00\n",
       "3367874   2015-12-26 23:35:00\n",
       "3296039   2015-12-28 09:00:00\n",
       "3275541   2015-12-28 13:14:00\n",
       "3355464   2015-12-29 03:50:00\n",
       "3368178   2015-12-29 13:19:00\n",
       "3353470   2015-12-29 13:21:00\n",
       "3310050   2015-12-30 15:07:00\n",
       "3313142   2015-12-30 16:05:00\n",
       "3303772   2015-12-30 16:06:00\n",
       "3292366   2015-12-30 16:18:00\n",
       "3241547   2015-12-31 10:40:00\n",
       "3371323   2015-12-31 15:34:00\n",
       "Name: ticket_issue_datetime, dtype: datetime64[ns]"
      ]
     },
     "execution_count": 21,
     "metadata": {},
     "output_type": "execute_result"
    }
   ],
   "source": [
    "dfs.ticket_issue_datetime.sort_values()"
   ]
  },
  {
   "cell_type": "code",
   "execution_count": 52,
   "metadata": {
    "collapsed": false
   },
   "outputs": [],
   "source": [
    "dfs['num'] = 1"
   ]
  },
  {
   "cell_type": "code",
   "execution_count": 26,
   "metadata": {
    "collapsed": true
   },
   "outputs": [],
   "source": []
  },
  {
   "cell_type": "code",
   "execution_count": null,
   "metadata": {
    "collapsed": false
   },
   "outputs": [],
   "source": []
  },
  {
   "cell_type": "code",
   "execution_count": 53,
   "metadata": {
    "collapsed": false
   },
   "outputs": [],
   "source": [
    "dfs['weekday'] = dfs['ticket_issue_datetime'].apply(lambda x: x.weekday())"
   ]
  },
  {
   "cell_type": "code",
   "execution_count": 54,
   "metadata": {
    "collapsed": false
   },
   "outputs": [],
   "source": [
    "gb = dfs.groupby('weekday')"
   ]
  },
  {
   "cell_type": "code",
   "execution_count": 55,
   "metadata": {
    "collapsed": false
   },
   "outputs": [
    {
     "data": {
      "text/plain": [
       "weekday\n",
       "0    1485\n",
       "1    1881\n",
       "2    1983\n",
       "3    1861\n",
       "4    1708\n",
       "5     813\n",
       "6     269\n",
       "Name: num, dtype: int64"
      ]
     },
     "execution_count": 55,
     "metadata": {},
     "output_type": "execute_result"
    }
   ],
   "source": [
    "gb.num.count()"
   ]
  },
  {
   "cell_type": "code",
   "execution_count": null,
   "metadata": {
    "collapsed": true
   },
   "outputs": [],
   "source": []
  }
 ],
 "metadata": {
  "kernelspec": {
   "display_name": "Python 2",
   "language": "python",
   "name": "python2"
  },
  "language_info": {
   "codemirror_mode": {
    "name": "ipython",
    "version": 2
   },
   "file_extension": ".py",
   "mimetype": "text/x-python",
   "name": "python",
   "nbconvert_exporter": "python",
   "pygments_lexer": "ipython2",
   "version": "2.7.11"
  }
 },
 "nbformat": 4,
 "nbformat_minor": 0
}
