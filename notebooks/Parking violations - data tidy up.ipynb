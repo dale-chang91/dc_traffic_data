{
 "cells": [
  {
   "cell_type": "code",
   "execution_count": 1,
   "metadata": {
    "collapsed": true
   },
   "outputs": [],
   "source": [
    "import glob\n",
    "import pandas as pd"
   ]
  },
  {
   "cell_type": "code",
   "execution_count": 2,
   "metadata": {
    "collapsed": true
   },
   "outputs": [],
   "source": [
    "pd.set_option('display.max_columns', 500)"
   ]
  },
  {
   "cell_type": "code",
   "execution_count": 3,
   "metadata": {
    "collapsed": false
   },
   "outputs": [],
   "source": [
    "files = glob.glob('../vz-hackathon/**')"
   ]
  },
  {
   "cell_type": "code",
   "execution_count": 4,
   "metadata": {
    "collapsed": false
   },
   "outputs": [],
   "source": [
    "parking_violations = [f for f in files if 'Parking_Violations_in' in f]"
   ]
  },
  {
   "cell_type": "code",
   "execution_count": 5,
   "metadata": {
    "collapsed": false
   },
   "outputs": [],
   "source": [
    "list_ = []\n",
    "for file_ in parking_violations[:]:\n",
    "    df = pd.read_csv(file_,index_col=None, header=0)\n",
    "    \n",
    "    filename = file_[len('../vz-hackathon/'):]\n",
    "    \n",
    "    df['filename'] = filename\n",
    "       \n",
    "    list_.append(df)\n",
    "    \n",
    "frame = pd.concat(list_)\n",
    "\n",
    "# TESTs\n",
    "assert frame.filename.nunique() == len(parking_violations)\n",
    "frame.columns = [col.lower() for col in frame.columns]\n",
    "frame = frame.reset_index(drop=True)"
   ]
  },
  {
   "cell_type": "code",
   "execution_count": 6,
   "metadata": {
    "collapsed": false
   },
   "outputs": [],
   "source": [
    "df = frame.copy()"
   ]
  },
  {
   "cell_type": "code",
   "execution_count": 7,
   "metadata": {
    "collapsed": false
   },
   "outputs": [],
   "source": [
    "# fuctnions\n",
    "\n",
    "def mil_to_time(x):\n",
    "   \n",
    "    if x == 'nan':\n",
    "        return '00:00:00.000Z'\n",
    "        \n",
    "    x = x.split('.')[0]\n",
    "    lg = len(x)\n",
    "    \n",
    "    if lg == 4:\n",
    "        t = x[:2] + ':' + x[2:] + ':00.000Z'\n",
    "      \n",
    "    elif lg == 3:\n",
    "        t = '0' + x[0] + ':' + x[1:] + ':00.000Z'\n",
    "    \n",
    "    elif lg == 2:\n",
    "        t = '0' + '0' + ':' + x + ':00.000Z'\n",
    "    \n",
    "    elif lg == 1:\n",
    "        t = '0' + '0' + ':' + '0' + x + ':00.000Z'\n",
    "    \n",
    "    else:\n",
    "        t = '00:00.000Z'\n",
    "        \n",
    "    if int(t[3]) > 5:\n",
    "        t = t[:2]+ ':' + '5' + t[4:]\n",
    "        \n",
    "    return t"
   ]
  },
  {
   "cell_type": "code",
   "execution_count": null,
   "metadata": {
    "collapsed": true
   },
   "outputs": [],
   "source": []
  },
  {
   "cell_type": "code",
   "execution_count": 8,
   "metadata": {
    "collapsed": false
   },
   "outputs": [],
   "source": [
    "## Feature engineering\n",
    "df['issue_time_military'] = df.issue_time.apply(str).apply(mil_to_time)\n",
    "dates = df.ticket_issue_date.str[:10] + 'T' #+ \n",
    "df['ticket_issue_datetime'] = dates + df.issue_time_military\n",
    "df['holiday'] = df.holiday != 0\n"
   ]
  },
  {
   "cell_type": "code",
   "execution_count": 9,
   "metadata": {
    "collapsed": false
   },
   "outputs": [],
   "source": [
    "# ## Del redudant columns\n",
    "del df['day_of_week']\n",
    "del df['month_of_year']\n",
    "del df['week_of_year']\n",
    "del df['issue_time']\n",
    "del df['issue_time_military']\n",
    "del df['ticket_issue_date']"
   ]
  },
  {
   "cell_type": "code",
   "execution_count": 10,
   "metadata": {
    "collapsed": false
   },
   "outputs": [],
   "source": [
    "## Testing datetime format\n",
    "# for i, t in enumerate(df.ticket_issue_datetime):\n",
    "#     try:\n",
    "#         pd.to_datetime(t)\n",
    "#     except:\n",
    "#         print i, t"
   ]
  },
  {
   "cell_type": "code",
   "execution_count": 13,
   "metadata": {
    "collapsed": false
   },
   "outputs": [
    {
     "data": {
      "text/html": [
       "<div>\n",
       "<table border=\"1\" class=\"dataframe\">\n",
       "  <thead>\n",
       "    <tr style=\"text-align: right;\">\n",
       "      <th></th>\n",
       "      <th>﻿x</th>\n",
       "      <th>y</th>\n",
       "      <th>objectid</th>\n",
       "      <th>rowid_</th>\n",
       "      <th>holiday</th>\n",
       "      <th>violation_code</th>\n",
       "      <th>violation_description</th>\n",
       "      <th>location</th>\n",
       "      <th>rp_plate_state</th>\n",
       "      <th>body_style</th>\n",
       "      <th>address_id</th>\n",
       "      <th>streetsegid</th>\n",
       "      <th>xcoord</th>\n",
       "      <th>ycoord</th>\n",
       "      <th>filename</th>\n",
       "      <th>ticket_issue_datetime</th>\n",
       "    </tr>\n",
       "  </thead>\n",
       "  <tbody>\n",
       "    <tr>\n",
       "      <th>0</th>\n",
       "      <td>-77.028867</td>\n",
       "      <td>38.895245</td>\n",
       "      <td>85866</td>\n",
       "      <td>10692752</td>\n",
       "      <td>False</td>\n",
       "      <td>P001</td>\n",
       "      <td>PARK ABREAST OF ANOTHER VEHICLE</td>\n",
       "      <td>1300 BLOCK PENNSYLVANIA AVE NW NOR</td>\n",
       "      <td>MD</td>\n",
       "      <td>TK</td>\n",
       "      <td>801823</td>\n",
       "      <td>1681.0</td>\n",
       "      <td>397496</td>\n",
       "      <td>136377</td>\n",
       "      <td>Parking_Violations_in_April_2009.csv</td>\n",
       "      <td>2009-04-28T14:16:00.000Z</td>\n",
       "    </tr>\n",
       "    <tr>\n",
       "      <th>1</th>\n",
       "      <td>-77.043465</td>\n",
       "      <td>38.903141</td>\n",
       "      <td>85918</td>\n",
       "      <td>10692911</td>\n",
       "      <td>False</td>\n",
       "      <td>P159</td>\n",
       "      <td>NO STOPPING OR STANDING IN AM RUSH HOUR ZONE</td>\n",
       "      <td>1100 BLOCK 19TH ST NW WEST SIDE</td>\n",
       "      <td>VA</td>\n",
       "      <td>PU</td>\n",
       "      <td>814327</td>\n",
       "      <td>12343.0</td>\n",
       "      <td>396230</td>\n",
       "      <td>137254</td>\n",
       "      <td>Parking_Violations_in_April_2009.csv</td>\n",
       "      <td>2009-04-23T08:31:00.000Z</td>\n",
       "    </tr>\n",
       "  </tbody>\n",
       "</table>\n",
       "</div>"
      ],
      "text/plain": [
       "          ﻿x          y  objectid    rowid_ holiday violation_code  \\\n",
       "0 -77.028867  38.895245     85866  10692752   False           P001   \n",
       "1 -77.043465  38.903141     85918  10692911   False           P159   \n",
       "\n",
       "                          violation_description  \\\n",
       "0               PARK ABREAST OF ANOTHER VEHICLE   \n",
       "1  NO STOPPING OR STANDING IN AM RUSH HOUR ZONE   \n",
       "\n",
       "                             location rp_plate_state body_style  address_id  \\\n",
       "0  1300 BLOCK PENNSYLVANIA AVE NW NOR             MD         TK      801823   \n",
       "1     1100 BLOCK 19TH ST NW WEST SIDE             VA         PU      814327   \n",
       "\n",
       "   streetsegid  xcoord  ycoord                              filename  \\\n",
       "0       1681.0  397496  136377  Parking_Violations_in_April_2009.csv   \n",
       "1      12343.0  396230  137254  Parking_Violations_in_April_2009.csv   \n",
       "\n",
       "      ticket_issue_datetime  \n",
       "0  2009-04-28T14:16:00.000Z  \n",
       "1  2009-04-23T08:31:00.000Z  "
      ]
     },
     "execution_count": 13,
     "metadata": {},
     "output_type": "execute_result"
    }
   ],
   "source": [
    "df.head(2)"
   ]
  },
  {
   "cell_type": "code",
   "execution_count": null,
   "metadata": {
    "collapsed": false
   },
   "outputs": [],
   "source": []
  },
  {
   "cell_type": "code",
   "execution_count": 15,
   "metadata": {
    "collapsed": false
   },
   "outputs": [],
   "source": [
    "# frame.to_json('parking_violations.json')\n",
    "df.to_csv('parking_violations.csv', sep='\\t', index=False)\n"
   ]
  },
  {
   "cell_type": "code",
   "execution_count": 16,
   "metadata": {
    "collapsed": true
   },
   "outputs": [],
   "source": [
    "df.sample(10000).to_csv('parking_violations_sample.csv', sep='\\t', index=False)"
   ]
  },
  {
   "cell_type": "code",
   "execution_count": 17,
   "metadata": {
    "collapsed": false
   },
   "outputs": [
    {
     "name": "stdout",
     "output_type": "stream",
     "text": [
      "<class 'pandas.core.frame.DataFrame'>\n",
      "RangeIndex: 12189654 entries, 0 to 12189653\n",
      "Data columns (total 16 columns):\n",
      "﻿x                       float64\n",
      "y                        float64\n",
      "objectid                 int64\n",
      "rowid_                   int64\n",
      "holiday                  bool\n",
      "violation_code           object\n",
      "violation_description    object\n",
      "location                 object\n",
      "rp_plate_state           object\n",
      "body_style               object\n",
      "address_id               int64\n",
      "streetsegid              float64\n",
      "xcoord                   int64\n",
      "ycoord                   int64\n",
      "filename                 object\n",
      "ticket_issue_datetime    object\n",
      "dtypes: bool(1), float64(3), int64(5), object(7)\n",
      "memory usage: 1.4+ GB\n"
     ]
    }
   ],
   "source": [
    "df.info()"
   ]
  },
  {
   "cell_type": "code",
   "execution_count": null,
   "metadata": {
    "collapsed": true
   },
   "outputs": [],
   "source": []
  }
 ],
 "metadata": {
  "kernelspec": {
   "display_name": "Python 2",
   "language": "python",
   "name": "python2"
  },
  "language_info": {
   "codemirror_mode": {
    "name": "ipython",
    "version": 2
   },
   "file_extension": ".py",
   "mimetype": "text/x-python",
   "name": "python",
   "nbconvert_exporter": "python",
   "pygments_lexer": "ipython2",
   "version": "2.7.11"
  }
 },
 "nbformat": 4,
 "nbformat_minor": 0
}
