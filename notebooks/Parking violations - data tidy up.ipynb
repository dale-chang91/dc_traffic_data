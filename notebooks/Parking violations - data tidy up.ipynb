{
 "cells": [
  {
   "cell_type": "code",
   "execution_count": 1,
   "metadata": {
    "collapsed": true
   },
   "outputs": [],
   "source": [
    "import glob\n",
    "import pandas as pd"
   ]
  },
  {
   "cell_type": "code",
   "execution_count": 2,
   "metadata": {
    "collapsed": true
   },
   "outputs": [],
   "source": [
    "pd.set_option('display.max_columns', 500)"
   ]
  },
  {
   "cell_type": "code",
   "execution_count": 3,
   "metadata": {
    "collapsed": false
   },
   "outputs": [],
   "source": [
    "files = glob.glob('../vz-hackathon/**')"
   ]
  },
  {
   "cell_type": "code",
   "execution_count": 4,
   "metadata": {
    "collapsed": false
   },
   "outputs": [],
   "source": [
    "parking_violations = [f for f in files if 'Parking_Violations_in' in f]\n",
    "\n"
   ]
  },
  {
   "cell_type": "code",
   "execution_count": 5,
   "metadata": {
    "collapsed": false
   },
   "outputs": [],
   "source": [
    "list_ = []\n",
    "for file_ in parking_violations:\n",
    "    df = pd.read_csv(file_,index_col=None, header=0)\n",
    "    \n",
    "    filename = file_[len('../vz-hackathon/'):]\n",
    "    \n",
    "    df['filename'] = filename\n",
    "   \n",
    "          \n",
    "    list_.append(df)\n",
    "    \n",
    "frame = pd.concat(list_)\n",
    "\n",
    "# TESTs\n",
    "assert frame.filename.nunique() == len(parking_violations)\n",
    "\n",
    "frame.columns = [col.lower() for col in frame.columns]\n",
    "frame = frame.reset_index(drop=True)"
   ]
  },
  {
   "cell_type": "code",
   "execution_count": 6,
   "metadata": {
    "collapsed": false
   },
   "outputs": [],
   "source": [
    "# fuctnions\n",
    "\n",
    "def mil_to_time(x):\n",
    "   \n",
    "    if x == 'nan':\n",
    "        return '00:00:00.000Z'\n",
    "        \n",
    "    x = x.split('.')[0]\n",
    "    lg = len(x)\n",
    "    \n",
    "    if lg == 4:\n",
    "        t = x[:2] + ':' + x[2:] + ':00.000Z'\n",
    "    \n",
    "    elif lg == 3:\n",
    "        t = '0' + x[0] + ':' + x[1:] + ':00.000Z'\n",
    "                \n",
    "        if int(t[3]) > 5:\n",
    "            t = t[:2] + '5' + t[4:]\n",
    "    \n",
    "    elif lg == 2:\n",
    "        t = '0' + '0' + ':' + x + ':00.000Z'\n",
    "    \n",
    "    elif lg == 1:\n",
    "        t = '0' + '0' + ':' + '0' + x + ':00.000Z'\n",
    "    \n",
    "    else:\n",
    "        t = '00:00.000Z'\n",
    "        \n",
    "    return t"
   ]
  },
  {
   "cell_type": "code",
   "execution_count": 7,
   "metadata": {
    "collapsed": false
   },
   "outputs": [],
   "source": [
    "frame['issue_time_military'] = frame.issue_time.apply(str).apply(mil_to_time)"
   ]
  },
  {
   "cell_type": "code",
   "execution_count": 8,
   "metadata": {
    "collapsed": false
   },
   "outputs": [],
   "source": [
    "## Feature engineering\n",
    "dates = frame.ticket_issue_date.str[:10] + 'T' #+ \n",
    "frame['ticket_issue_datetime'] = dates + frame.issue_time_military\n",
    "frame['holiday'] = frame.holiday != 0\n"
   ]
  },
  {
   "cell_type": "code",
   "execution_count": 9,
   "metadata": {
    "collapsed": false
   },
   "outputs": [],
   "source": [
    "## Del redudant columns\n",
    "del frame['day_of_week']\n",
    "del frame['month_of_year']\n",
    "del frame['week_of_year']\n",
    "del frame['issue_time']"
   ]
  },
  {
   "cell_type": "code",
   "execution_count": 14,
   "metadata": {
    "collapsed": false
   },
   "outputs": [],
   "source": [
    "frame.head(2)\n",
    "del frame['issue_time_military']\n",
    "del frame['ticket_issue_date']"
   ]
  },
  {
   "cell_type": "code",
   "execution_count": 15,
   "metadata": {
    "collapsed": false
   },
   "outputs": [
    {
     "data": {
      "text/html": [
       "<div>\n",
       "<table border=\"1\" class=\"dataframe\">\n",
       "  <thead>\n",
       "    <tr style=\"text-align: right;\">\n",
       "      <th></th>\n",
       "      <th>﻿x</th>\n",
       "      <th>y</th>\n",
       "      <th>objectid</th>\n",
       "      <th>rowid_</th>\n",
       "      <th>holiday</th>\n",
       "      <th>violation_code</th>\n",
       "      <th>violation_description</th>\n",
       "      <th>location</th>\n",
       "      <th>rp_plate_state</th>\n",
       "      <th>body_style</th>\n",
       "      <th>address_id</th>\n",
       "      <th>streetsegid</th>\n",
       "      <th>xcoord</th>\n",
       "      <th>ycoord</th>\n",
       "      <th>filename</th>\n",
       "      <th>ticket_issue_datetime</th>\n",
       "    </tr>\n",
       "  </thead>\n",
       "  <tbody>\n",
       "    <tr>\n",
       "      <th>0</th>\n",
       "      <td>-77.028867</td>\n",
       "      <td>38.895245</td>\n",
       "      <td>85866</td>\n",
       "      <td>10692752</td>\n",
       "      <td>False</td>\n",
       "      <td>P001</td>\n",
       "      <td>PARK ABREAST OF ANOTHER VEHICLE</td>\n",
       "      <td>1300 BLOCK PENNSYLVANIA AVE NW NOR</td>\n",
       "      <td>MD</td>\n",
       "      <td>TK</td>\n",
       "      <td>801823</td>\n",
       "      <td>1681.0</td>\n",
       "      <td>397496</td>\n",
       "      <td>136377</td>\n",
       "      <td>Parking_Violations_in_April_2009.csv</td>\n",
       "      <td>2009-04-28T14:16:00.000Z</td>\n",
       "    </tr>\n",
       "    <tr>\n",
       "      <th>1</th>\n",
       "      <td>-77.043465</td>\n",
       "      <td>38.903141</td>\n",
       "      <td>85918</td>\n",
       "      <td>10692911</td>\n",
       "      <td>False</td>\n",
       "      <td>P159</td>\n",
       "      <td>NO STOPPING OR STANDING IN AM RUSH HOUR ZONE</td>\n",
       "      <td>1100 BLOCK 19TH ST NW WEST SIDE</td>\n",
       "      <td>VA</td>\n",
       "      <td>PU</td>\n",
       "      <td>814327</td>\n",
       "      <td>12343.0</td>\n",
       "      <td>396230</td>\n",
       "      <td>137254</td>\n",
       "      <td>Parking_Violations_in_April_2009.csv</td>\n",
       "      <td>2009-04-23T08:31:00.000Z</td>\n",
       "    </tr>\n",
       "  </tbody>\n",
       "</table>\n",
       "</div>"
      ],
      "text/plain": [
       "          ﻿x          y  objectid    rowid_ holiday violation_code  \\\n",
       "0 -77.028867  38.895245     85866  10692752   False           P001   \n",
       "1 -77.043465  38.903141     85918  10692911   False           P159   \n",
       "\n",
       "                          violation_description  \\\n",
       "0               PARK ABREAST OF ANOTHER VEHICLE   \n",
       "1  NO STOPPING OR STANDING IN AM RUSH HOUR ZONE   \n",
       "\n",
       "                             location rp_plate_state body_style  address_id  \\\n",
       "0  1300 BLOCK PENNSYLVANIA AVE NW NOR             MD         TK      801823   \n",
       "1     1100 BLOCK 19TH ST NW WEST SIDE             VA         PU      814327   \n",
       "\n",
       "   streetsegid  xcoord  ycoord                              filename  \\\n",
       "0       1681.0  397496  136377  Parking_Violations_in_April_2009.csv   \n",
       "1      12343.0  396230  137254  Parking_Violations_in_April_2009.csv   \n",
       "\n",
       "      ticket_issue_datetime  \n",
       "0  2009-04-28T14:16:00.000Z  \n",
       "1  2009-04-23T08:31:00.000Z  "
      ]
     },
     "execution_count": 15,
     "metadata": {},
     "output_type": "execute_result"
    }
   ],
   "source": [
    "frame.head(2)"
   ]
  },
  {
   "cell_type": "code",
   "execution_count": 39,
   "metadata": {
    "collapsed": false
   },
   "outputs": [
    {
     "data": {
      "text/plain": [
       "13"
      ]
     },
     "execution_count": 39,
     "metadata": {},
     "output_type": "execute_result"
    }
   ],
   "source": []
  },
  {
   "cell_type": "code",
   "execution_count": null,
   "metadata": {
    "collapsed": false
   },
   "outputs": [
    {
     "name": "stdout",
     "output_type": "stream",
     "text": [
      "56786 2009-04-06T0958:00.000Z\n",
      "132422 2009-04-19T0255:00.000Z\n",
      "151522 2009-04-08T10:79:00.000Z\n",
      "363953 2011-04-04T10:88:00.000Z\n",
      "626686 2012-04-01T0750:00.000Z\n",
      "765780 2012-04-01T0750:00.000Z\n",
      "1244698 2009-08-25T0159:00.000Z\n",
      "1251656 2009-08-18T12:66:00.000Z\n",
      "1253691 2009-08-23T0552:00.000Z\n",
      "1253817 2009-08-18T12:66:00.000Z\n",
      "1260366 2009-08-23T0552:00.000Z\n",
      "1281889 2009-08-25T0159:00.000Z\n",
      "2709575 2010-12-03T0356:00.000Z\n",
      "2751240 2010-12-27T11:96:00.000Z\n",
      "3453477 2009-02-23T0250:00.000Z\n",
      "4639408 2011-01-25T0559:00.000Z\n",
      "4668660 2011-01-23T11:89:00.000Z\n",
      "5539537 2009-07-02T0751:00.000Z\n",
      "5556109 2009-07-02T0751:00.000Z\n",
      "5723812 2010-07-07T0452:00.000Z\n",
      "5728106 2010-07-12T0959:00.000Z\n",
      "5753188 2010-07-05T0350:00.000Z\n",
      "5810663 2010-07-02T0456:00.000Z\n"
     ]
    }
   ],
   "source": [
    "#  pd.to_datetime(frame.ticket_issue_datetime)\n",
    "#2014-11-25T00:00:00.000Z\n",
    "\n",
    "for i, t in enumerate(frame.ticket_issue_datetime):\n",
    "    try:\n",
    "        pd.to_datetime(t)\n",
    "    except:\n",
    "        print i, t"
   ]
  },
  {
   "cell_type": "markdown",
   "metadata": {},
   "source": [
    "## Incorrect Datetimes\n",
    "\n",
    "56786 09:68:00.000Z\n",
    "132422 02:85:00.000Z\n",
    "151522 10:79:00.000Z\n",
    "363953 10:88:00.000Z\n",
    "626686 07:90:00.000Z\n",
    "765780 07:90:00.000Z\n",
    "1244698 01:89:00.000Z\n",
    "1251656 12:66:00.000Z\n",
    "1253691 05:82:00.000Z\n",
    "1253817 12:66:00.000Z\n",
    "1260366 05:82:00.000Z\n",
    "1281889 01:89:00.000Z\n",
    "2709575 03:86:00.000Z\n",
    "2751240 11:96:00.000Z\n",
    "3453477 02:80:00.000Z\n",
    "4639408 05:99:00.000Z\n",
    "4668660 11:89:00.000Z\n",
    "5539537 07:61:00.000Z\n",
    "5556109 07:61:00.000Z\n",
    "5723812 04:72:00.000Z\n",
    "5728106 09:79:00.000Z\n",
    "5753188 03:60:00.000Z\n",
    "5810663 04:76:00.000Z\n",
    "5892121 01:89:00.000Z\n",
    "5921066 13:84:00.000Z\n",
    "6785347 02:77:00.000Z\n",
    "7024180 07:75:00.000Z\n",
    "7095496 04:75:00.000Z\n",
    "7197448 04:75:00.000Z\n",
    "7247479 07:75:00.000Z\n",
    "7719689 10:69:00.000Z\n",
    "8438252 11:68:00.000Z\n",
    "8506213 11:68:00.000Z\n",
    "9053346 11:89:00.000Z\n",
    "9059075 05:66:00.000Z\n",
    "9428960 12:77:00.000Z\n",
    "9480132 12:77:00.000Z\n",
    "10246717 21:72:00.000Z\n",
    "10440573 11:80:00.000Z\n",
    "11044211 02:71:00.000Z\n",
    "11117238 04:87:00.000Z\n",
    "11305010 04:68:00.000Z\n",
    "11952650 12:63:00.000Z\n",
    "12185061 10:90:00.000Z"
   ]
  },
  {
   "cell_type": "code",
   "execution_count": 19,
   "metadata": {
    "collapsed": false
   },
   "outputs": [
    {
     "data": {
      "text/plain": [
       "﻿x                                                    -77.042\n",
       "y                                                     38.9199\n",
       "objectid                                             11507649\n",
       "rowid_                                               11498297\n",
       "day_of_week                                            SUNDAY\n",
       "holiday                                                     0\n",
       "week_of_year                                               17\n",
       "month_of_year                                               4\n",
       "issue_time                                                285\n",
       "violation_code                                           P269\n",
       "violation_description                     NO STANDING ANYTIME\n",
       "location                                      2300 18TH ST NW\n",
       "rp_plate_state                                             DC\n",
       "body_style                                                 4D\n",
       "address_id                                             226290\n",
       "streetsegid                                              5366\n",
       "xcoord                                                 396358\n",
       "ycoord                                                 139119\n",
       "ticket_issue_date                    2009-04-19T00:00:00.000Z\n",
       "filename                 Parking_Violations_in_April_2009.csv\n",
       "Name: 132422, dtype: object"
      ]
     },
     "execution_count": 19,
     "metadata": {},
     "output_type": "execute_result"
    }
   ],
   "source": [
    "frame.iloc[132422]"
   ]
  },
  {
   "cell_type": "code",
   "execution_count": 53,
   "metadata": {
    "collapsed": false
   },
   "outputs": [],
   "source": [
    "# frame.to_json('parking_violations.json')\n",
    "# frame.to_csv('parking_violations.csv', delimiter='||')\n"
   ]
  },
  {
   "cell_type": "code",
   "execution_count": null,
   "metadata": {
    "collapsed": true
   },
   "outputs": [],
   "source": []
  }
 ],
 "metadata": {
  "kernelspec": {
   "display_name": "Python 2",
   "language": "python",
   "name": "python2"
  },
  "language_info": {
   "codemirror_mode": {
    "name": "ipython",
    "version": 2
   },
   "file_extension": ".py",
   "mimetype": "text/x-python",
   "name": "python",
   "nbconvert_exporter": "python",
   "pygments_lexer": "ipython2",
   "version": "2.7.11"
  }
 },
 "nbformat": 4,
 "nbformat_minor": 0
}
