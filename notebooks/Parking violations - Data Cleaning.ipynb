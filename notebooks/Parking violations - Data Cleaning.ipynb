{
 "cells": [
  {
   "cell_type": "markdown",
   "metadata": {},
   "source": [
    "## Loading Parking Violation Data and cleaning operations"
   ]
  },
  {
   "cell_type": "code",
   "execution_count": null,
   "metadata": {
    "collapsed": false
   },
   "outputs": [],
   "source": [
    "import glob\n",
    "import pandas as pd"
   ]
  },
  {
   "cell_type": "code",
   "execution_count": null,
   "metadata": {
    "collapsed": true
   },
   "outputs": [],
   "source": [
    "pd.set_option('display.max_columns', 500)"
   ]
  },
  {
   "cell_type": "code",
   "execution_count": null,
   "metadata": {
    "collapsed": false
   },
   "outputs": [],
   "source": [
    "files = glob.glob('../vz-hackathon/**')"
   ]
  },
  {
   "cell_type": "code",
   "execution_count": null,
   "metadata": {
    "collapsed": false
   },
   "outputs": [],
   "source": [
    "parking_violations = [f for f in files if 'Parking_Violations_in' in f]"
   ]
  },
  {
   "cell_type": "markdown",
   "metadata": {},
   "source": [
    "### Combine all csvs into one data frame"
   ]
  },
  {
   "cell_type": "code",
   "execution_count": null,
   "metadata": {
    "collapsed": false
   },
   "outputs": [],
   "source": [
    "list_ = []\n",
    "for file_ in parking_violations[:]:\n",
    "    df = pd.read_csv(file_,index_col=None, header=0)\n",
    "    \n",
    "    filename = file_[len('../vz-hackathon/'):]\n",
    "    \n",
    "    df['filename'] = filename\n",
    "       \n",
    "    list_.append(df)\n",
    "    \n",
    "frame = pd.concat(list_)\n",
    "\n",
    "# TESTs\n",
    "assert frame.filename.nunique() == len(parking_violations)\n",
    "frame.columns = [col.lower() for col in frame.columns]\n",
    "frame = frame.reset_index(drop=True)\n",
    "df = frame.copy()"
   ]
  },
  {
   "cell_type": "markdown",
   "metadata": {},
   "source": [
    "### Construct datetime object from issue_time raw string"
   ]
  },
  {
   "cell_type": "code",
   "execution_count": null,
   "metadata": {
    "collapsed": false
   },
   "outputs": [],
   "source": [
    "def mil_to_time(x):\n",
    "    \"Convert messy issue_time to datetime object based upon length of issue_time string\"\n",
    "    if x == 'nan':\n",
    "        return '00:00:00.000Z'\n",
    "        \n",
    "    x = x.split('.')[0]\n",
    "    lg = len(x)\n",
    "    \n",
    "    if lg == 4:\n",
    "        t = x[:2] + ':' + x[2:] + ':00.000Z'\n",
    "      \n",
    "    elif lg == 3:\n",
    "        t = '0' + x[0] + ':' + x[1:] + ':00.000Z'\n",
    "    \n",
    "    elif lg == 2:\n",
    "        t = '0' + '0' + ':' + x + ':00.000Z'\n",
    "    \n",
    "    elif lg == 1:\n",
    "        t = '0' + '0' + ':' + '0' + x + ':00.000Z'\n",
    "    \n",
    "    else:\n",
    "        t = '00:00.000Z'\n",
    "    \n",
    "    # correction for timedate if one element is greater than 5.\n",
    "    # double check this\n",
    "    if int(t[3]) > 5:\n",
    "        t = t[:2]+ ':' + '5' + t[4:]\n",
    "        \n",
    "    return t"
   ]
  },
  {
   "cell_type": "code",
   "execution_count": null,
   "metadata": {
    "collapsed": false
   },
   "outputs": [],
   "source": [
    "df['issue_time_military'] = df.issue_time.apply(str).apply(mil_to_time)\n",
    "dates = df.ticket_issue_date.str[:10] + 'T' #+ \n",
    "df['ticket_issue_datetime'] = dates + df.issue_time_military"
   ]
  },
  {
   "cell_type": "markdown",
   "metadata": {},
   "source": [
    "### Optional Test that datetime contruction is correct"
   ]
  },
  {
   "cell_type": "code",
   "execution_count": null,
   "metadata": {
    "collapsed": true
   },
   "outputs": [],
   "source": [
    "## Testing datetime format to ensure that everything is actually datetime\n",
    "# for i, t in enumerate(df.ticket_issue_datetime):\n",
    "#     try:\n",
    "#         pd.to_datetime(t)\n",
    "#     except:\n",
    "#         print i, t"
   ]
  },
  {
   "cell_type": "markdown",
   "metadata": {},
   "source": [
    "### Holiday value to Boolean"
   ]
  },
  {
   "cell_type": "code",
   "execution_count": null,
   "metadata": {
    "collapsed": true
   },
   "outputs": [],
   "source": [
    "df['holiday'] = df.holiday != 0"
   ]
  },
  {
   "cell_type": "markdown",
   "metadata": {},
   "source": [
    "### Delete redundant columns"
   ]
  },
  {
   "cell_type": "code",
   "execution_count": null,
   "metadata": {
    "collapsed": false
   },
   "outputs": [],
   "source": [
    "del df['day_of_week']\n",
    "del df['month_of_year']\n",
    "del df['week_of_year']\n",
    "del df['issue_time']\n",
    "del df['issue_time_military']\n",
    "del df['ticket_issue_date']"
   ]
  },
  {
   "cell_type": "markdown",
   "metadata": {},
   "source": [
    "### Drop Duplicates and Fill in Empy Rows"
   ]
  },
  {
   "cell_type": "code",
   "execution_count": null,
   "metadata": {
    "collapsed": true
   },
   "outputs": [],
   "source": [
    "df.drop_duplicates(subset='rowid_', inplace=True)\n",
    "df.streetsegid.fillna(0, inplace=True)"
   ]
  },
  {
   "cell_type": "markdown",
   "metadata": {
    "collapsed": false
   },
   "source": [
    "### Export to CSV"
   ]
  },
  {
   "cell_type": "code",
   "execution_count": null,
   "metadata": {
    "collapsed": false
   },
   "outputs": [],
   "source": [
    "df.to_csv('../cleaned_data/clean_parking_violations.csv', sep='\\t', index=False)"
   ]
  },
  {
   "cell_type": "code",
   "execution_count": null,
   "metadata": {
    "collapsed": true
   },
   "outputs": [],
   "source": [
    "df.sample(10000).to_csv('../sampled_data/clean_parking_violations_10k_sample.csv', sep='\\t', index=False)"
   ]
  },
  {
   "cell_type": "code",
   "execution_count": null,
   "metadata": {
    "collapsed": true
   },
   "outputs": [],
   "source": [
    "df.sample(100000).to_csv('../sampled_data/clean_parking_violations_100k_sample.csv', sep='\\t', index=False)"
   ]
  },
  {
   "cell_type": "code",
   "execution_count": null,
   "metadata": {
    "collapsed": true
   },
   "outputs": [],
   "source": [
    "df.sample(1000000).to_csv('../sampled_data/clean_parking_violations_1million_sample.csv', sep='\\t', index=False)"
   ]
  }
 ],
 "metadata": {
  "kernelspec": {
   "display_name": "Python 3",
   "language": "python",
   "name": "python3"
  },
  "language_info": {
   "codemirror_mode": {
    "name": "ipython",
    "version": 3
   },
   "file_extension": ".py",
   "mimetype": "text/x-python",
   "name": "python",
   "nbconvert_exporter": "python",
   "pygments_lexer": "ipython3",
   "version": "3.5.2"
  }
 },
 "nbformat": 4,
 "nbformat_minor": 0
}
